{
 "cells": [
  {
   "cell_type": "markdown",
   "id": "982f0ad9",
   "metadata": {},
   "source": [
    "This is pulled from https://github.com/snap-stanford/ogb/tree/master/examples/lsc/pcqm4m\n",
    "\n",
    "dependencies:\n",
    "- install rdkit (I used conda) https://www.rdkit.org/docs/Install.html\n",
    "1. conda create -c conda-forge -n my-rdkit-env rdkit\n",
    "2. conda activate my-rdkit-env\n",
    "3. cd [anaconda folder]/bin\n",
    "4. source activate my-rdkit-env\n",
    "\n",
    "- install ogb, torch and pytorch-geometric\n",
    "\n",
    "- run the main-gnn.py code to download the dataset, extract and train (see the readme.md). I could finish extracting because my RAM wasn't enough. If you face the some problem, use this notebook to extract just a handful of the dataset. This code is taken from "
   ]
  },
  {
   "cell_type": "code",
   "execution_count": 1,
   "id": "6ecd473b",
   "metadata": {},
   "outputs": [],
   "source": [
    "import os\n",
    "import os.path as osp\n",
    "import shutil\n",
    "from ogb.utils import smiles2graph\n",
    "from ogb.utils.torch_util import replace_numpy_with_torchtensor\n",
    "from ogb.utils.url import decide_download, download_url, extract_zip\n",
    "import pandas as pd\n",
    "import numpy as np\n",
    "from tqdm import tqdm\n",
    "import torch\n",
    "\n",
    "from torch_geometric.data import InMemoryDataset\n",
    "from torch_geometric.data import Data"
   ]
  },
  {
   "cell_type": "code",
   "execution_count": 2,
   "id": "1b7d107a",
   "metadata": {
    "scrolled": true
   },
   "outputs": [
    {
     "data": {
      "text/html": [
       "<div>\n",
       "<style scoped>\n",
       "    .dataframe tbody tr th:only-of-type {\n",
       "        vertical-align: middle;\n",
       "    }\n",
       "\n",
       "    .dataframe tbody tr th {\n",
       "        vertical-align: top;\n",
       "    }\n",
       "\n",
       "    .dataframe thead th {\n",
       "        text-align: right;\n",
       "    }\n",
       "</style>\n",
       "<table border=\"1\" class=\"dataframe\">\n",
       "  <thead>\n",
       "    <tr style=\"text-align: right;\">\n",
       "      <th></th>\n",
       "      <th>idx</th>\n",
       "      <th>smiles</th>\n",
       "      <th>homolumogap</th>\n",
       "    </tr>\n",
       "  </thead>\n",
       "  <tbody>\n",
       "    <tr>\n",
       "      <th>0</th>\n",
       "      <td>0</td>\n",
       "      <td>Cc1ccc(cc1)C1C=c2cnccc2=NC1=O</td>\n",
       "      <td>3.047675</td>\n",
       "    </tr>\n",
       "    <tr>\n",
       "      <th>1</th>\n",
       "      <td>1</td>\n",
       "      <td>COc1cc(OC)ccc1C=CN(C(=O)C)C</td>\n",
       "      <td>4.410966</td>\n",
       "    </tr>\n",
       "    <tr>\n",
       "      <th>2</th>\n",
       "      <td>2</td>\n",
       "      <td>C=CCN(C(=O)C)C=Cc1ccccc1C</td>\n",
       "      <td>4.639541</td>\n",
       "    </tr>\n",
       "    <tr>\n",
       "      <th>3</th>\n",
       "      <td>3</td>\n",
       "      <td>C=CCN(C(=O)C)C=Cc1ccccc1F</td>\n",
       "      <td>4.492600</td>\n",
       "    </tr>\n",
       "    <tr>\n",
       "      <th>4</th>\n",
       "      <td>4</td>\n",
       "      <td>C=CCN(C(=O)C)C=Cc1ccccc1Cl</td>\n",
       "      <td>4.612330</td>\n",
       "    </tr>\n",
       "    <tr>\n",
       "      <th>...</th>\n",
       "      <td>...</td>\n",
       "      <td>...</td>\n",
       "      <td>...</td>\n",
       "    </tr>\n",
       "    <tr>\n",
       "      <th>3803448</th>\n",
       "      <td>3803448</td>\n",
       "      <td>O=N(=O)c1ccc(c(c1)N(=O)=O)Cl</td>\n",
       "      <td>NaN</td>\n",
       "    </tr>\n",
       "    <tr>\n",
       "      <th>3803449</th>\n",
       "      <td>3803449</td>\n",
       "      <td>NCC(=O)COP(=O)(O)O</td>\n",
       "      <td>NaN</td>\n",
       "    </tr>\n",
       "    <tr>\n",
       "      <th>3803450</th>\n",
       "      <td>3803450</td>\n",
       "      <td>CC(CN)O</td>\n",
       "      <td>NaN</td>\n",
       "    </tr>\n",
       "    <tr>\n",
       "      <th>3803451</th>\n",
       "      <td>3803451</td>\n",
       "      <td>OC1C=CC=C(C1O)C(=O)O</td>\n",
       "      <td>NaN</td>\n",
       "    </tr>\n",
       "    <tr>\n",
       "      <th>3803452</th>\n",
       "      <td>3803452</td>\n",
       "      <td>[O-]C(=O)CC(C[N+](C)(C)C)OC(=O)C</td>\n",
       "      <td>NaN</td>\n",
       "    </tr>\n",
       "  </tbody>\n",
       "</table>\n",
       "<p>3803453 rows × 3 columns</p>\n",
       "</div>"
      ],
      "text/plain": [
       "             idx                            smiles  homolumogap\n",
       "0              0     Cc1ccc(cc1)C1C=c2cnccc2=NC1=O     3.047675\n",
       "1              1       COc1cc(OC)ccc1C=CN(C(=O)C)C     4.410966\n",
       "2              2         C=CCN(C(=O)C)C=Cc1ccccc1C     4.639541\n",
       "3              3         C=CCN(C(=O)C)C=Cc1ccccc1F     4.492600\n",
       "4              4        C=CCN(C(=O)C)C=Cc1ccccc1Cl     4.612330\n",
       "...          ...                               ...          ...\n",
       "3803448  3803448      O=N(=O)c1ccc(c(c1)N(=O)=O)Cl          NaN\n",
       "3803449  3803449                NCC(=O)COP(=O)(O)O          NaN\n",
       "3803450  3803450                           CC(CN)O          NaN\n",
       "3803451  3803451              OC1C=CC=C(C1O)C(=O)O          NaN\n",
       "3803452  3803452  [O-]C(=O)CC(C[N+](C)(C)C)OC(=O)C          NaN\n",
       "\n",
       "[3803453 rows x 3 columns]"
      ]
     },
     "execution_count": 2,
     "metadata": {},
     "output_type": "execute_result"
    }
   ],
   "source": [
    "\"\"\"\n",
    "WARNING: THIS IS NOT A GOOD PRACTICE AS I UPLOADED THE FILES TO GITHUB. CAN REMOVE LATER\n",
    "my folder structure looks like (obtained from running main_gnn)\n",
    "dataset/\n",
    "    pcqm4m_kddcup2021/\n",
    "        mapping/\n",
    "        processed/\n",
    "        raw/\n",
    "            data.csv.gz\n",
    "\"\"\"\n",
    "\n",
    "ROOT = \"dataset/pcqm4m_kddcup2021\"\n",
    "filename = \"{}/{}\".format(ROOT, \"raw/data.csv.gz\")\n",
    "data_df = pd.read_csv(filename)\n",
    "data_df"
   ]
  },
  {
   "cell_type": "code",
   "execution_count": 3,
   "id": "6fc3ea3e",
   "metadata": {},
   "outputs": [],
   "source": [
    "smiles_list = data_df['smiles']\n",
    "homolumogap_list = data_df['homolumogap']"
   ]
  },
  {
   "cell_type": "code",
   "execution_count": 4,
   "id": "c24a55ec",
   "metadata": {},
   "outputs": [
    {
     "name": "stderr",
     "output_type": "stream",
     "text": [
      "  0%|          | 10/3803453 [00:00<38:28, 1647.93it/s]"
     ]
    },
    {
     "name": "stdout",
     "output_type": "stream",
     "text": [
      "Converting SMILES strings into graphs...\n"
     ]
    },
    {
     "name": "stderr",
     "output_type": "stream",
     "text": [
      "\n"
     ]
    }
   ],
   "source": [
    "# THIS IS TAKEN FROM ogb file extraction \n",
    "\n",
    "print('Converting SMILES strings into graphs...')\n",
    "data_list = []\n",
    "for i in tqdm(range(len(smiles_list))):\n",
    "    data = Data()\n",
    "\n",
    "    smiles = smiles_list[i]\n",
    "    homolumogap = homolumogap_list[i]\n",
    "    graph = smiles2graph(smiles)\n",
    "\n",
    "    assert(len(graph['edge_feat']) == graph['edge_index'].shape[1])\n",
    "    assert(len(graph['node_feat']) == graph['num_nodes'])\n",
    "\n",
    "    data.__num_nodes__ = int(graph['num_nodes'])\n",
    "    data.edge_index = torch.from_numpy(graph['edge_index']).to(torch.int64)\n",
    "    data.edge_attr = torch.from_numpy(graph['edge_feat']).to(torch.int64)\n",
    "    data.x = torch.from_numpy(graph['node_feat']).to(torch.int64)\n",
    "    data.y = torch.Tensor([homolumogap])\n",
    "\n",
    "    data_list.append(data)\n",
    "    \n",
    "    \"\"\"\n",
    "    EARLY BREAK HERE BEFORE EVERYTHING IS COMPLETED\n",
    "    OTHERWISE IT TAKES LOTS OF RAM\n",
    "    \"\"\"\n",
    "    if i == 10:\n",
    "        break\n"
   ]
  },
  {
   "cell_type": "code",
   "execution_count": 5,
   "id": "0e9388ac",
   "metadata": {},
   "outputs": [],
   "source": [
    "# assume no pre-transformation\n",
    "pre_transform = None"
   ]
  },
  {
   "cell_type": "code",
   "execution_count": 6,
   "id": "1fdaf957",
   "metadata": {},
   "outputs": [],
   "source": [
    "# double-check prediction target\n",
    "split_dict = replace_numpy_with_torchtensor(torch.load(osp.join(ROOT, 'split_dict.pt')))\n",
    "    \n",
    "\"\"\"\n",
    "TURN OFF ASSERTION SINCE WE ONLY WORK WITH A SUBSET\n",
    "\"\"\"\n",
    "# assert(all([not torch.isnan(data_list[i].y)[0] for i in split_dict['train']]))\n",
    "# assert(all([not torch.isnan(data_list[i].y)[0] for i in split_dict['valid']]))\n",
    "# assert(all([torch.isnan(data_list[i].y)[0] for i in split_dict['test']]))\n",
    "\n",
    "if pre_transform is not None:\n",
    "    data_list = [self.pre_transform(data) for data in data_list]\n",
    "\n",
    "# why do we combine everything into a single data\n",
    "data, slices = InMemoryDataset.collate(data_list)\n",
    "\n",
    "# print('Saving...')\n",
    "# torch.save((data, slices), self.processed_paths[0])"
   ]
  },
  {
   "cell_type": "code",
   "execution_count": 7,
   "id": "d4fc7b49",
   "metadata": {},
   "outputs": [],
   "source": [
    "# print('Saving...')\n",
    "# saveFilename = \"{}/{}\".format(ROOT, \"processed/datatorch\")\n",
    "# torch.save((data, slices), saveFilename)\n"
   ]
  },
  {
   "cell_type": "code",
   "execution_count": 8,
   "id": "2485dc9f",
   "metadata": {},
   "outputs": [
    {
     "data": {
      "text/plain": [
       "[Data(edge_attr=[40, 3], edge_index=[2, 40], x=[18, 9], y=[1]),\n",
       " Data(edge_attr=[34, 3], edge_index=[2, 34], x=[17, 9], y=[1]),\n",
       " Data(edge_attr=[32, 3], edge_index=[2, 32], x=[16, 9], y=[1]),\n",
       " Data(edge_attr=[32, 3], edge_index=[2, 32], x=[16, 9], y=[1]),\n",
       " Data(edge_attr=[32, 3], edge_index=[2, 32], x=[16, 9], y=[1]),\n",
       " Data(edge_attr=[30, 3], edge_index=[2, 30], x=[15, 9], y=[1]),\n",
       " Data(edge_attr=[30, 3], edge_index=[2, 30], x=[15, 9], y=[1]),\n",
       " Data(edge_attr=[28, 3], edge_index=[2, 28], x=[14, 9], y=[1]),\n",
       " Data(edge_attr=[26, 3], edge_index=[2, 26], x=[13, 9], y=[1]),\n",
       " Data(edge_attr=[32, 3], edge_index=[2, 32], x=[15, 9], y=[1]),\n",
       " Data(edge_attr=[30, 3], edge_index=[2, 30], x=[15, 9], y=[1])]"
      ]
     },
     "execution_count": 8,
     "metadata": {},
     "output_type": "execute_result"
    }
   ],
   "source": [
    "data_list"
   ]
  },
  {
   "cell_type": "code",
   "execution_count": 27,
   "id": "0e844650",
   "metadata": {},
   "outputs": [
    {
     "data": {
      "image/png": "[encoded data removed]",
      "text/plain": [
       "<Figure size 216x216 with 1 Axes>"
      ]
     },
     "metadata": {},
     "output_type": "display_data"
    },
    {
     "data": {
      "image/png": "[encoded data removed]",
      "text/plain": [
       "<Figure size 216x216 with 1 Axes>"
      ]
     },
     "metadata": {},
     "output_type": "display_data"
    },
    {
     "data": {
      "image/png": "[encoded data removed]",
      "text/plain": [
       "<Figure size 216x216 with 1 Axes>"
      ]
     },
     "metadata": {},
     "output_type": "display_data"
    },
    {
     "data": {
      "image/png": "[encoded data removed]",
      "text/plain": [
       "<Figure size 216x216 with 1 Axes>"
      ]
     },
     "metadata": {},
     "output_type": "display_data"
    },
    {
     "data": {
      "image/png": "[encoded data removed]",
      "text/plain": [
       "<Figure size 216x216 with 1 Axes>"
      ]
     },
     "metadata": {},
     "output_type": "display_data"
    },
    {
     "data": {
      "image/png": "[encoded data removed]",
      "text/plain": [
       "<Figure size 216x216 with 1 Axes>"
      ]
     },
     "metadata": {},
     "output_type": "display_data"
    },
    {
     "data": {
      "image/png": "[encoded data removed]",
      "text/plain": [
       "<Figure size 216x216 with 1 Axes>"
      ]
     },
     "metadata": {},
     "output_type": "display_data"
    },
    {
     "data": {
      "image/png": "[encoded data removed]",
      "text/plain": [
       "<Figure size 216x216 with 1 Axes>"
      ]
     },
     "metadata": {},
     "output_type": "display_data"
    },
    {
     "data": {
      "image/png": "[encoded data removed]",
      "text/plain": [
       "<Figure size 216x216 with 1 Axes>"
      ]
     },
     "metadata": {},
     "output_type": "display_data"
    },
    {
     "data": {
      "image/png": "[encoded data removed]",
      "text/plain": [
       "<Figure size 216x216 with 1 Axes>"
      ]
     },
     "metadata": {},
     "output_type": "display_data"
    },
    {
     "data": {
      "image/png": "[encoded data removed]",
      "text/plain": [
       "<Figure size 216x216 with 1 Axes>"
      ]
     },
     "metadata": {},
     "output_type": "display_data"
    }
   ],
   "source": [
    "import networkx as nx\n",
    "import matplotlib.pyplot as plt\n",
    "\n",
    "for i in range(11):\n",
    "    \n",
    "    _data = data_list[i]\n",
    "    edges = _data.edge_index.T.tolist()\n",
    "    edges = np.array(edges)\n",
    "\n",
    "    G = nx.Graph()\n",
    "    G.add_edges_from(edges)\n",
    "\n",
    "    plt.figure(figsize=(3, 3))\n",
    "    plt.title(\"HOMO-LUMO Gap: {0:.2f}\".format(_data.y.tolist()[0]))\n",
    "    nx.draw(G, node_size=40)\n",
    "    plt.show()"
   ]
  },
  {
   "cell_type": "code",
   "execution_count": null,
   "id": "c4a168eb",
   "metadata": {},
   "outputs": [],
   "source": []
  },
  {
   "cell_type": "markdown",
   "id": "ee341283",
   "metadata": {},
   "source": [
    "## debug\n",
    "\n",
    "don't need to care about things below here"
   ]
  },
  {
   "cell_type": "code",
   "execution_count": 10,
   "id": "343e32cb",
   "metadata": {},
   "outputs": [],
   "source": [
    "# from ogb.lsc import PygPCQM4MDataset, PCQM4MEvaluator"
   ]
  },
  {
   "cell_type": "code",
   "execution_count": 11,
   "id": "4c6e5565",
   "metadata": {},
   "outputs": [],
   "source": [
    "# !pwd"
   ]
  },
  {
   "cell_type": "code",
   "execution_count": 12,
   "id": "ad66c97e",
   "metadata": {},
   "outputs": [],
   "source": [
    "# import os\n",
    "# import os.path as osp\n",
    "# import shutil\n",
    "# from ogb.utils import smiles2graph\n",
    "# from ogb.utils.torch_util import replace_numpy_with_torchtensor\n",
    "# from ogb.utils.url import decide_download, download_url, extract_zip\n",
    "# import pandas as pd\n",
    "# import numpy as np\n",
    "# from tqdm import tqdm\n",
    "# import torch\n",
    "\n",
    "# from torch_geometric.data import InMemoryDataset\n",
    "# from torch_geometric.data import Data\n",
    "\n",
    "# class PygPCQM4MDataset(InMemoryDataset):\n",
    "#     def __init__(self, root = 'dataset', smiles2graph = smiles2graph, transform=None, pre_transform = None):\n",
    "#         '''\n",
    "#             Pytorch Geometric PCQM4M dataset object\n",
    "#                 - root (str): the dataset folder will be located at root/pcqm4m_kddcup2021\n",
    "#                 - smiles2graph (callable): A callable function that converts a SMILES string into a graph object\n",
    "#                     * The default smiles2graph requires rdkit to be installed\n",
    "#         '''\n",
    "\n",
    "#         self.original_root = root\n",
    "#         self.smiles2graph = smiles2graph\n",
    "#         self.folder = osp.join(root, 'pcqm4m_kddcup2021')\n",
    "#         self.version = 1\n",
    "        \n",
    "#         # Old url hosted at Stanford\n",
    "#         # self.url = f'http://ogb-data.stanford.edu/data/lsc/pcqm4m_kddcup2021.zip'\n",
    "#         # New url hosted by DGL team at AWS--much faster to download\n",
    "#         self.url = 'https://dgl-data.s3-accelerate.amazonaws.com/dataset/OGB-LSC/pcqm4m_kddcup2021.zip'\n",
    "\n",
    "#         # check version and update if necessary\n",
    "#         if osp.isdir(self.folder) and (not osp.exists(osp.join(self.folder, f'RELEASE_v{self.version}.txt'))):\n",
    "#             print('PCQM4M dataset has been updated.')\n",
    "#             if input('Will you update the dataset now? (y/N)\\n').lower() == 'y':\n",
    "#                 shutil.rmtree(self.folder)\n",
    "\n",
    "#         super(PygPCQM4MDataset, self).__init__(self.folder, transform, pre_transform)\n",
    "\n",
    "#         self.data, self.slices = torch.load(self.processed_paths[0])\n",
    "\n",
    "#     @property\n",
    "#     def raw_file_names(self):\n",
    "#         return 'data.csv.gz'\n",
    "\n",
    "#     @property\n",
    "#     def processed_file_names(self):\n",
    "#         return 'geometric_data_processed.pt'\n",
    "\n",
    "#     def download(self):\n",
    "#         if decide_download(self.url):\n",
    "#             path = download_url(self.url, self.original_root)\n",
    "#             extract_zip(path, self.original_root)\n",
    "#             os.unlink(path)\n",
    "#         else:\n",
    "#             print('Stop download.')\n",
    "#             exit(-1)\n",
    "\n",
    "#     def process(self):\n",
    "#         data_df = pd.read_csv(osp.join(self.raw_dir, 'data.csv.gz'))\n",
    "#         smiles_list = data_df['smiles']\n",
    "#         homolumogap_list = data_df['homolumogap']\n",
    "\n",
    "#         print('Converting SMILES strings into graphs...')\n",
    "#         data_list = []\n",
    "#         for i in tqdm(range(len(smiles_list))):\n",
    "#             data = Data()\n",
    "\n",
    "#             smiles = smiles_list[i]\n",
    "#             homolumogap = homolumogap_list[i]\n",
    "#             graph = self.smiles2graph(smiles)\n",
    "            \n",
    "#             assert(len(graph['edge_feat']) == graph['edge_index'].shape[1])\n",
    "#             assert(len(graph['node_feat']) == graph['num_nodes'])\n",
    "\n",
    "#             data.__num_nodes__ = int(graph['num_nodes'])\n",
    "#             data.edge_index = torch.from_numpy(graph['edge_index']).to(torch.int64)\n",
    "#             data.edge_attr = torch.from_numpy(graph['edge_feat']).to(torch.int64)\n",
    "#             data.x = torch.from_numpy(graph['node_feat']).to(torch.int64)\n",
    "#             data.y = torch.Tensor([homolumogap])\n",
    "\n",
    "#             data_list.append(data)\n",
    "            \n",
    "#             if i == 10:\n",
    "#                 break\n",
    "                \n",
    "#         # double-check prediction target\n",
    "#         split_dict = self.get_idx_split()\n",
    "# #         assert(all([not torch.isnan(data_list[i].y)[0] for i in split_dict['train']]))\n",
    "# #         assert(all([not torch.isnan(data_list[i].y)[0] for i in split_dict['valid']]))\n",
    "# #         assert(all([torch.isnan(data_list[i].y)[0] for i in split_dict['test']]))\n",
    "\n",
    "#         if self.pre_transform is not None:\n",
    "#             data_list = [self.pre_transform(data) for data in data_list]\n",
    "\n",
    "#         data, slices = self.collate(data_list)\n",
    "\n",
    "#         print('Saving...')\n",
    "#         torch.save((data, slices), self.processed_paths[0])\n",
    "\n",
    "#     def get_idx_split(self):\n",
    "#         split_dict = replace_numpy_with_torchtensor(torch.load(osp.join(self.root, 'split_dict.pt')))\n",
    "#         return split_dict"
   ]
  },
  {
   "cell_type": "code",
   "execution_count": 13,
   "id": "b8cf9430",
   "metadata": {},
   "outputs": [],
   "source": [
    "# dataset = PygPCQM4MDataset(root = \"dataset\")"
   ]
  },
  {
   "cell_type": "code",
   "execution_count": 14,
   "id": "466cad93",
   "metadata": {},
   "outputs": [],
   "source": [
    "# dataset.processed_paths[0]"
   ]
  },
  {
   "cell_type": "code",
   "execution_count": 15,
   "id": "70799734",
   "metadata": {},
   "outputs": [],
   "source": [
    "# dataset[2]"
   ]
  },
  {
   "cell_type": "code",
   "execution_count": 16,
   "id": "d190bfc4",
   "metadata": {},
   "outputs": [],
   "source": [
    "# _data, _slices = torch.load(dataset.processed_paths[0])"
   ]
  },
  {
   "cell_type": "code",
   "execution_count": 17,
   "id": "7e0dfdf1",
   "metadata": {},
   "outputs": [],
   "source": [
    "# _data"
   ]
  },
  {
   "cell_type": "code",
   "execution_count": 18,
   "id": "fb34a86c",
   "metadata": {},
   "outputs": [],
   "source": [
    "# dataset[0, 2]"
   ]
  },
  {
   "cell_type": "code",
   "execution_count": 19,
   "id": "468bccdd",
   "metadata": {},
   "outputs": [],
   "source": [
    "# DataLoader(dataset[split_idx[\"train\"]], batch_size=args.batch_size, shuffle=True, num_workers = args.num_workers)"
   ]
  },
  {
   "cell_type": "code",
   "execution_count": 20,
   "id": "0431f4bf",
   "metadata": {},
   "outputs": [],
   "source": [
    "# dataset[1].y"
   ]
  },
  {
   "cell_type": "code",
   "execution_count": 21,
   "id": "e1a98774",
   "metadata": {},
   "outputs": [],
   "source": [
    "# dataset[1].edge_index.T.tolist()"
   ]
  },
  {
   "cell_type": "code",
   "execution_count": 22,
   "id": "1958578d",
   "metadata": {},
   "outputs": [],
   "source": [
    "# !pip install decorator==4.0"
   ]
  },
  {
   "cell_type": "code",
   "execution_count": 23,
   "id": "364362a5",
   "metadata": {},
   "outputs": [],
   "source": [
    "# import decorator\n",
    "# decorator.__version__"
   ]
  },
  {
   "cell_type": "code",
   "execution_count": 24,
   "id": "c82c0c1d",
   "metadata": {},
   "outputs": [],
   "source": [
    "# import matplotlib\n",
    "# matplotlib.__version__"
   ]
  },
  {
   "cell_type": "code",
   "execution_count": 25,
   "id": "5c2d715b",
   "metadata": {},
   "outputs": [],
   "source": [
    "# !pip install matplotlib==2.2.3"
   ]
  },
  {
   "cell_type": "code",
   "execution_count": 26,
   "id": "2e8999e9",
   "metadata": {},
   "outputs": [],
   "source": [
    "# dataset"
   ]
  },
  {
   "cell_type": "code",
   "execution_count": null,
   "id": "6b179338",
   "metadata": {},
   "outputs": [],
   "source": []
  },
  {
   "cell_type": "code",
   "execution_count": null,
   "id": "48911299",
   "metadata": {},
   "outputs": [],
   "source": []
  }
 ],
 "metadata": {
  "kernelspec": {
   "display_name": "Python 3",
   "language": "python",
   "name": "python3"
  },
  "language_info": {
   "codemirror_mode": {
    "name": "ipython",
    "version": 3
   },
   "file_extension": ".py",
   "mimetype": "text/x-python",
   "name": "python",
   "nbconvert_exporter": "python",
   "pygments_lexer": "ipython3",
   "version": "3.9.2"
  }
 },
 "nbformat": 4,
 "nbformat_minor": 5
}
